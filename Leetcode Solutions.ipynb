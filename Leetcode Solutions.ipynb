{
 "cells": [
  {
   "cell_type": "markdown",
   "metadata": {},
   "source": [
    "Leetcode doesn't save my solutions. Here's the solution to that problem."
   ]
  },
  {
   "cell_type": "markdown",
   "metadata": {},
   "source": [
    "Phone number combinations \n",
    "https://leetcode.com/problems/letter-combinations-of-a-phone-number/description/"
   ]
  },
  {
   "cell_type": "code",
   "execution_count": 1,
   "metadata": {
    "collapsed": true
   },
   "outputs": [],
   "source": [
    "def letterCombinations(self, digits):\n",
    "    \"\"\"\n",
    "    :type digits: str\n",
    "    :rtype: List[str]\n",
    "    \"\"\"\n",
    "    combos = {'0':[' '], '1':[], '2':['a','b','c'], '3':['d','e','f'], '4':['g','h','i'],\n",
    "              '5':['j','k','l'], '6':['m','n','o'], '7':['p','q','r','s'],\n",
    "              '8':['t','u','v'], '9':['w','x','y','z']}\n",
    "    outputs = ['']\n",
    "    for digit in digits:\n",
    "        buffer_outputs = [ ]\n",
    "        for letter in combos[digit]:\n",
    "            for existing_str in outputs:\n",
    "                buffer_outputs.append(existing_str+letter)\n",
    "        outputs = buffer_outputs\n",
    "    if(len(outputs) == 1 and digits != '0'): # check for stupid edge case\n",
    "        outputs = [ ]\n",
    "    return outputs"
   ]
  },
  {
   "cell_type": "markdown",
   "metadata": {},
   "source": [
    "Two sum https://leetcode.com/problems/two-sum/description/"
   ]
  },
  {
   "cell_type": "code",
   "execution_count": null,
   "metadata": {
    "collapsed": true
   },
   "outputs": [],
   "source": [
    "def twoSum(self, nums, target):\n",
    "    \"\"\"\n",
    "    :type nums: List[int]\n",
    "    :type target: int\n",
    "    :rtype: List[int]\n",
    "    \"\"\"\n",
    "    for it,i in enumerate(nums[:-1]):\n",
    "        for jt, j in enumerate(nums[it+1:]):\n",
    "            if(j+i == target): \n",
    "                return [it,jt+it+1]        \n",
    "    # given assumption that there is always a solution"
   ]
  },
  {
   "cell_type": "markdown",
   "metadata": {},
   "source": [
    "Sudoku Validity Checker https://leetcode.com/problems/valid-sudoku/description/"
   ]
  },
  {
   "cell_type": "code",
   "execution_count": 2,
   "metadata": {
    "collapsed": true
   },
   "outputs": [],
   "source": [
    "def isValidSudoku(self, board):\n",
    "    \"\"\"\n",
    "    :type board: List[List[str]]\n",
    "    :rtype: bool\n",
    "    \"\"\"\n",
    "    def do_check(number_array):\n",
    "        s_x, s_y, s_z = set(), set(), set()\n",
    "        for n in number_array:\n",
    "            if n[0] in s_x or n[1] in s_y or n[2] in s_z: return False\n",
    "            s_x.add(n[0])\n",
    "            s_y.add(n[1])\n",
    "            s_z.add(n[2])\n",
    "        return True\n",
    "    def find_square(i, j):\n",
    "        if i < 3:\n",
    "            if j < 3: return 0\n",
    "            if j > 2 and j < 6: return 1\n",
    "            if j > 5: return 2\n",
    "        if i > 2 and i < 6:\n",
    "            if j < 3: return 3\n",
    "            if j > 2 and j < 6: return 4\n",
    "            if j > 5: return 5\n",
    "        if i > 5: \n",
    "            if j < 3: return 6\n",
    "            if j > 2 and j < 6: return 7\n",
    "            if j > 5: return 8\n",
    "\n",
    "    numbers = {str(i):[] for i in range(1,10)}\n",
    "    for it,i in enumerate(board):\n",
    "        for it2, j in enumerate(i):\n",
    "            if(board[it][it2] != '.'):\n",
    "                numbers[str(board[it][it2])].append([it, it2, find_square(it,it2)])\n",
    "    for key in numbers.keys():\n",
    "        number_array = numbers[key]\n",
    "        if(not do_check(number_array)):\n",
    "            return False\n",
    "    return True "
   ]
  },
  {
   "cell_type": "markdown",
   "metadata": {},
   "source": [
    "sudoku solver (currently incomplete) https://leetcode.com/problems/sudoku-solver/description/"
   ]
  },
  {
   "cell_type": "code",
   "execution_count": 8,
   "metadata": {},
   "outputs": [
    {
     "ename": "SyntaxError",
     "evalue": "invalid syntax (<ipython-input-8-4d59f4a6fcd2>, line 18)",
     "output_type": "error",
     "traceback": [
      "\u001b[0;36m  File \u001b[0;32m\"<ipython-input-8-4d59f4a6fcd2>\"\u001b[0;36m, line \u001b[0;32m18\u001b[0m\n\u001b[0;31m    b = recursive_solver(new_board, new_i, new_j, new_num):\u001b[0m\n\u001b[0m                                                          ^\u001b[0m\n\u001b[0;31mSyntaxError\u001b[0m\u001b[0;31m:\u001b[0m invalid syntax\n"
     ]
    }
   ],
   "source": [
    "class Solution(object):\n",
    "    def solveSudoku(self, board):\n",
    "        \"\"\"\n",
    "        :type board: List[List[str]]\n",
    "        :rtype: void Do not return anything, modify board in-place instead.\n",
    "        \"\"\"\n",
    "        def board_append(board, i, j, num):\n",
    "            board[i][j] = num\n",
    "            return board\n",
    "        def recursive_solver(i, j, num, board):\n",
    "            new_board = board_append(board, i, j, num)\n",
    "            if not valid_board(new_board):\n",
    "                return None\n",
    "            if(j == 8): new_i = i + 1 % 9\n",
    "            new_j = j + 1 % 9\n",
    "            if board[i][j] == '.':\n",
    "                for new_num in range(1,10):\n",
    "                    b = recursive_solver(new_board, new_i, new_j, new_num):\n",
    "                    if b: return b\n",
    "                return None # no valid solution possible for given board combination\n",
    "            else:\n",
    "                recursive_solver(new_board, new_i, new_j, )\n",
    "        for num in range(1,10):\n",
    "            b = recursive_solver(new_board, 0, 0, num):\n",
    "            if b: return b\n",
    "        return None # no valid solution possible for given board combination\n"
   ]
  },
  {
   "cell_type": "markdown",
   "metadata": {},
   "source": [
    "https://leetcode.com/problems/n-queens/"
   ]
  },
  {
   "cell_type": "code",
   "execution_count": 3,
   "metadata": {},
   "outputs": [
    {
     "name": "stdout",
     "output_type": "stream",
     "text": [
      "['....', '....', '....', '....']\n",
      "['Q...', '....', '....', '....']\n",
      "['Q...', '....', '....', '....']\n",
      "['Q...', '....', '....', '....']\n",
      "['Q...', '....', '....', '....']\n",
      "['Q...', '..Q.', '....', '....']\n",
      "['Q...', '..Q.', '....', '....']\n",
      "['Q...', '..Q.', '....', '....']\n",
      "['Q...', '..Q.', '....', '....']\n",
      "['Q...', '..Q.', '....', '....']\n",
      "['Q...', '..Q.', '...Q', '....']\n",
      "['Q...', '..Q.', '...Q', '....']\n",
      "['Q...', '..Q.', '...Q', '....']\n",
      "['Q...', '..Q.', '...Q', '.Q..']\n"
     ]
    },
    {
     "data": {
      "text/plain": [
       "['Q...', '..Q.', '...Q', '.Q..']"
      ]
     },
     "execution_count": 3,
     "metadata": {},
     "output_type": "execute_result"
    }
   ],
   "source": [
    "class Solution:\n",
    "    def __init__(self):\n",
    "        self.width = 4\n",
    "        self.height = 4\n",
    "    def check_column(self, board, col):\n",
    "        print(board)\n",
    "        for i in range(self.width):\n",
    "            if(board[i][col] == 'Q'): return True\n",
    "        return False\n",
    "    def check_diagonal(self, board, col, row):\n",
    "        i,j =col, row\n",
    "        #go down\n",
    "        while i<self.width and j<self.width:\n",
    "            if(board[i][j] == 'Q'):\n",
    "                return True\n",
    "            i+=1\n",
    "            j+=1\n",
    "        #go up\n",
    "        i,j =col, row\n",
    "        while i>=0 and j>=0:\n",
    "            if(board[i][j] == 'Q'):\n",
    "                return True\n",
    "            i-=1\n",
    "            j-=1\n",
    "        #go up backwards\n",
    "        i,j =col, row\n",
    "        while i<self.width and j>=0:\n",
    "            if(board[i][j] == 'Q'):\n",
    "                return True\n",
    "            i+=1\n",
    "            j-=1\n",
    "        #go down backward\n",
    "        i,j =col, row\n",
    "        while i>=0 and j<self.width:\n",
    "            if(board[i][j] == 'Q'):\n",
    "                return True\n",
    "            i-=1\n",
    "            j+=1\n",
    "        return False\n",
    "    def backtrack(self,board, line):\n",
    "        for i in range(self.width):\n",
    "            if not self.check_column(board,i) and not self.check_diagonal(board,i,line):\n",
    "                board[line] = '.'*(i)+'Q'+'.'*(self.width-i-1)\n",
    "                print(board)\n",
    "                if(line+1 > self.height-1): return board, True #we're done\n",
    "                new_board, valid = self.backtrack(board, line+1) #backtrack recurse\n",
    "                if valid:\n",
    "                    return new_board, True\n",
    "                else: #backtrack failed, try next position\n",
    "                    board[line] = '.'*self.width\n",
    "        return board, False #no positions work, try next pos on previous line\n",
    "    def solveNQueens(self, n):\n",
    "        board = ['.'*self.width for _ in range(self.height)]\n",
    "        board, valid = self.backtrack(board,0)\n",
    "        return board\n",
    "Solution().solveNQueens(4)"
   ]
  },
  {
   "cell_type": "markdown",
   "metadata": {},
   "source": [
    "https://leetcode.com/contest/weekly-contest-108/problems/unique-email-addresses/"
   ]
  },
  {
   "cell_type": "code",
   "execution_count": null,
   "metadata": {
    "collapsed": true
   },
   "outputs": [],
   "source": [
    "class Solution:\n",
    "    def numUniqueEmails(self, emails):\n",
    "        \"\"\"\n",
    "        :type emails: List[str]\n",
    "        :rtype: int\n",
    "        \"\"\"\n",
    "        e = set()\n",
    "        def get_loc_a(email):\n",
    "            for it,e in enumerate(email):\n",
    "                if e == '@':\n",
    "                    return it\n",
    "        def email_plus(email):\n",
    "            at = get_loc_a(email)\n",
    "            domain = email[at:]\n",
    "            email_addr = email[:at].replace('.','')\n",
    "            for it,i in enumerate(email_addr):\n",
    "                if i == '+':\n",
    "                    return email_addr[:it] + domain\n",
    "            return email_addr+domain\n",
    "        for email in emails:\n",
    "            e.add(email_plus(email))\n",
    "        return len(e)"
   ]
  }
 ],
 "metadata": {
  "kernelspec": {
   "display_name": "Python 3",
   "language": "python",
   "name": "python3"
  },
  "language_info": {
   "codemirror_mode": {
    "name": "ipython",
    "version": 3
   },
   "file_extension": ".py",
   "mimetype": "text/x-python",
   "name": "python",
   "nbconvert_exporter": "python",
   "pygments_lexer": "ipython3",
   "version": "3.6.1"
  }
 },
 "nbformat": 4,
 "nbformat_minor": 2
}
